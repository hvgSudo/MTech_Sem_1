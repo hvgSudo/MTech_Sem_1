{
 "cells": [
  {
   "cell_type": "code",
   "execution_count": 1,
   "metadata": {},
   "outputs": [],
   "source": [
    "# Data for Chi-Square                                                       Data for Karl-Pearson and Covariance\n",
    "\n",
    "# Observed Data-1                                                               x       y\n",
    "#                   Attacked    Non-Attacked    Total                           60      75\n",
    "# Vaccinated            31          469           500                           34      32\n",
    "# Not Vaccinated        185         1315          1500                          40      34\n",
    "# Total                 216         1784        2000                            50      40\n",
    "#                                                                               45      45\n",
    "# Observed Data-2                                                               41      33\n",
    "#               Male        Female      Total                                   22      12\n",
    "# Fiction        250        200         450                                     43      30\n",
    "# Non-Fiction    50         1000        1050\n",
    "# Total         300         1200        1500"
   ]
  },
  {
   "cell_type": "code",
   "execution_count": 53,
   "metadata": {},
   "outputs": [],
   "source": [
    "import numpy as np"
   ]
  },
  {
   "cell_type": "code",
   "execution_count": 40,
   "metadata": {},
   "outputs": [],
   "source": [
    "observed_value_1 = [[31, 469], [185, 1315]]\n",
    "alpha_1 = 0.05 # chi-square value = 9.488\n",
    "chi_square_1_original = 9.488\n",
    "observed_value_2 = [[250, 200], [50, 1000]]\n",
    "alpha_2 = 0.01 # chi-square value = 10.828\n",
    "chi_square_2_original = 10.828\n",
    "x = np.array((60, 34, 40, 50, 45, 41, 22, 43))\n",
    "y = np.array((75, 32, 34, 40, 45, 33, 12, 30))"
   ]
  },
  {
   "cell_type": "code",
   "execution_count": 55,
   "metadata": {},
   "outputs": [
    {
     "name": "stdout",
     "output_type": "stream",
     "text": [
      "Calculated Chi-Square value is 14.6432\n",
      "Given Chi-Square value is 9.488\n",
      "Given level of significance is 5.0%\n",
      "The result of the experiment does not support the hypothesis\n"
     ]
    }
   ],
   "source": [
    "# Observed Data 1\n",
    "row_total_1 = observed_value_1[0][0] + observed_value_1[0][1]\n",
    "row_total_2 = observed_value_1[1][0] + observed_value_1[1][1]\n",
    "column_total_1 = observed_value_1[0][0] + observed_value_1[1][0]\n",
    "column_total_2 = observed_value_1[0][1] + observed_value_1[1][1]\n",
    "grand_total = row_total_1 + row_total_2\n",
    "\n",
    "expected_value_1 = [[(row_total_1*column_total_1)//grand_total, (row_total_1*column_total_2)//grand_total], \n",
    "                    [(row_total_2*column_total_1)//grand_total, (row_total_2*column_total_2)//grand_total]]\n",
    "\n",
    "chi_square_1_calculated = (np.square(observed_value_1[0][0] - expected_value_1[0][0]) / expected_value_1[0][0]) + \\\n",
    "             (np.square(observed_value_1[0][1] - expected_value_1[0][1]) / expected_value_1[0][1]) + \\\n",
    "             (np.square(observed_value_1[1][0] - expected_value_1[1][0]) / expected_value_1[1][0]) + \\\n",
    "             (np.square(observed_value_1[1][1] - expected_value_1[1][1]) / expected_value_1[1][1])\n",
    "\n",
    "print(f'Calculated Chi-Square value is {round(chi_square_1_calculated, 4)}')\n",
    "print(f'Given Chi-Square value is {chi_square_1_original}')\n",
    "print(f'Given level of significance is {alpha_1 * 100}%')\n",
    "\n",
    "if chi_square_1_original > chi_square_1_calculated or chi_square_1_original< chi_square_1_calculated:\n",
    "    print('The result of the experiment does not support the hypothesis')\n",
    "else:\n",
    "    print('The result of the experiment supports the hypothesis')"
   ]
  },
  {
   "cell_type": "code",
   "execution_count": 56,
   "metadata": {},
   "outputs": [
    {
     "name": "stdout",
     "output_type": "stream",
     "text": [
      "Calculated Chi-Square value is 507.9365\n",
      "Given Chi-Square value is 10.828\n",
      "Given level of significance is 1.0%\n",
      "The result of the experiment does not support the hypothesis\n"
     ]
    }
   ],
   "source": [
    "# Observed Data 2\n",
    "row_total_1 = observed_value_2[0][0] + observed_value_2[0][1]\n",
    "row_total_2 = observed_value_2[1][0] + observed_value_2[1][1]\n",
    "column_total_1 = observed_value_2[0][0] + observed_value_2[1][0]\n",
    "column_total_2 = observed_value_2[0][1] + observed_value_2[1][1]\n",
    "grand_total = row_total_1 + row_total_2\n",
    "\n",
    "expected_value_2 = [[(row_total_1*column_total_1)//grand_total, (row_total_1*column_total_2)//grand_total], \n",
    "                    [(row_total_2*column_total_1)//grand_total, (row_total_2*column_total_2)//grand_total]]\n",
    "\n",
    "chi_square_2_calculated = (np.square(observed_value_2[0][0] - expected_value_2[0][0]) / expected_value_2[0][0]) + \\\n",
    "             (np.square(observed_value_2[0][1] - expected_value_2[0][1]) / expected_value_2[0][1]) + \\\n",
    "             (np.square(observed_value_2[1][0] - expected_value_2[1][0]) / expected_value_2[1][0]) + \\\n",
    "             (np.square(observed_value_2[1][1] - expected_value_2[1][1]) / expected_value_2[1][1])\n",
    "\n",
    "print(f'Calculated Chi-Square value is {round(chi_square_2_calculated, 4)}')\n",
    "print(f'Given Chi-Square value is {chi_square_2_original}')\n",
    "print(f'Given level of significance is {alpha_2 * 100}%')\n",
    "\n",
    "if chi_square_2_original > chi_square_2_calculated or chi_square_2_original< chi_square_2_calculated:\n",
    "    print('The result of the experiment does not support the hypothesis')\n",
    "else:\n",
    "    print('The result of the experiment supports the hypothesis')"
   ]
  },
  {
   "cell_type": "code",
   "execution_count": 50,
   "metadata": {},
   "outputs": [
    {
     "name": "stdout",
     "output_type": "stream",
     "text": [
      "Covariance is 159.4531\n",
      "The Covariance matrix of the data is\n",
      " [[123.83928571 182.23214286]\n",
      " [182.23214286 319.69642857]]\n"
     ]
    }
   ],
   "source": [
    "# Covariance\n",
    "mean_x = np.mean(x)\n",
    "mean_y = np.mean(y)\n",
    "\n",
    "numerator = 0\n",
    "\n",
    "for i in range(len(x)):\n",
    "    numerator = numerator + (x[i] - mean_x) * (y[i] - mean_y)\n",
    "\n",
    "cov = numerator / len(x)\n",
    "\n",
    "print(f'Covariance is {round(cov, 4)}')\n",
    "\n",
    "covariance = np.cov(x, y)\n",
    "print(f'The Covariance matrix of the data is\\n {covariance}')"
   ]
  },
  {
   "cell_type": "code",
   "execution_count": 52,
   "metadata": {},
   "outputs": [
    {
     "name": "stdout",
     "output_type": "stream",
     "text": [
      "Karl Pearson is 0.9159\n"
     ]
    }
   ],
   "source": [
    "# Karl Pearson Coefficient\n",
    "\n",
    "std_x = np.std(x)\n",
    "std_y = np.std(y)\n",
    "\n",
    "karl_pearson_coefficient = cov / (std_x * std_y)\n",
    "print(f'Karl Pearson is {round(karl_pearson_coefficient, 4)}')"
   ]
  }
 ],
 "metadata": {
  "kernelspec": {
   "display_name": "Python 3",
   "language": "python",
   "name": "python3"
  },
  "language_info": {
   "codemirror_mode": {
    "name": "ipython",
    "version": 3
   },
   "file_extension": ".py",
   "mimetype": "text/x-python",
   "name": "python",
   "nbconvert_exporter": "python",
   "pygments_lexer": "ipython3",
   "version": "3.10.12"
  },
  "orig_nbformat": 4
 },
 "nbformat": 4,
 "nbformat_minor": 2
}
